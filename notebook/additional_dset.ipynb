{
 "cells": [
  {
   "cell_type": "code",
   "execution_count": 1,
   "id": "387969a9-ea94-480a-861b-9c9ba033cd56",
   "metadata": {},
   "outputs": [],
   "source": [
    "import pandas as pd\n",
    "import numpy as np\n",
    "import geopandas as gpd\n",
    "import seaborn as sns\n",
    "import matplotlib.pyplot as plt\n",
    "from geodatasets import get_path\n",
    "from function_06 import load_data_with_delimiters\n",
    "from shapely.geometry import Point\n",
    "import folium\n",
    "from folium.plugins import HeatMap\n"
   ]
  },
  {
   "cell_type": "code",
   "execution_count": 2,
   "id": "9d28b6ec-3cbb-4069-88b6-1ed3f026ed56",
   "metadata": {},
   "outputs": [],
   "source": [
    "file_info = \"../data/raw/ongevallen.txt\"\n",
    "\n",
    "df_acc2 =pd.read_csv(file_info, low_memory=False)"
   ]
  },
  {
   "cell_type": "code",
   "execution_count": 5,
   "id": "122a234d-e9f8-4ffb-9693-b97fc5ec2eea",
   "metadata": {},
   "outputs": [
    {
     "data": {
      "text/plain": [
       "((1193484, 66),\n",
       " VKL_NUMMER          0\n",
       " REGNUMMER      197529\n",
       " PVOPGEM       1166161\n",
       " DATUM_VKL     1193484\n",
       " DAG_CODE      1193484\n",
       "                ...   \n",
       " DISTRCODE      964941\n",
       " DISTRNAAM      964941\n",
       " DAGTYPE       1193484\n",
       " IND_ALC       1193484\n",
       " WEEKNR        1193484\n",
       " Length: 66, dtype: int64,\n",
       " Index(['VKL_NUMMER', 'REGNUMMER', 'PVOPGEM', 'DATUM_VKL', 'DAG_CODE',\n",
       "        'MND_NUMMER', 'JAAR_VKL', 'TIJDSTIP', 'UUR', 'DDL_ID', 'AP3_CODE',\n",
       "        'AP4_CODE', 'AP5_CODE', 'ANTL_SLA', 'ANTL_DOD', 'ANTL_GZH', 'ANTL_SEH',\n",
       "        'ANTL_GOV', 'ANTL_PTJ', 'ANTL_TDT', 'MNE_CODE', 'AOL_ID', 'NIVEAUKOP',\n",
       "        'WSE_ID', 'WSE_AN', 'BEBKOM', 'MAXSNELHD', 'WVL_ID', 'WVG_ID', 'WVG_AN',\n",
       "        'WDK_ID', 'WDK_AN', 'LGD_ID', 'ZAD_ID', 'WGD_CODE_1', 'WGD_CODE_2',\n",
       "        'BZD_ID_VM1', 'BZD_ID_VM2', 'BZD_ID_VM3', 'BZD_VM_AN', 'BZD_ID_IF1',\n",
       "        'BZD_ID_IF2', 'BZD_ID_IF3', 'BZD_IF_AN', 'BZD_ID_TA1', 'BZD_ID_TA2',\n",
       "        'BZD_ID_TA3', 'BZD_TA_AN', 'JTE_ID', 'WVK_ID', 'HECTOMETER', 'FK_VELD5',\n",
       "        'HUISNUMMER', 'GME_ID', 'GME_NAAM', 'PVE_CODE', 'PVE_NAAM', 'KDD_NAAM',\n",
       "        'PLT_NAAM', 'DIENSTCODE', 'DIENSTNAAM', 'DISTRCODE', 'DISTRNAAM',\n",
       "        'DAGTYPE', 'IND_ALC', 'WEEKNR'],\n",
       "       dtype='object'))"
      ]
     },
     "execution_count": 5,
     "metadata": {},
     "output_type": "execute_result"
    }
   ],
   "source": [
    "df_acc2.shape, df_acc2.isnull().sum(), df_acc2.columns"
   ]
  },
  {
   "cell_type": "code",
   "execution_count": 7,
   "id": "bd21f0e1-72df-4276-b189-c994a8e87091",
   "metadata": {},
   "outputs": [],
   "source": [
    "relevant_columns = [\n",
    "    'VKL_NUMMER', 'TIJDSTIP', 'UUR', 'JAAR_VKL',\n",
    "    'ANTL_DOD', 'ANTL_GZH', 'ANTL_SEH',\n",
    "    'WVK_ID', 'GME_NAAM', 'PLT_NAAM',\n",
    "    'BZD_VM_AN', 'BZD_IF_AN', 'BZD_TA_AN'\n",
    "]\n",
    "\n",
    "# Keep only those columns\n",
    "df_acc2 = df_acc2[relevant_columns]\n",
    "\n",
    "# Drop rows where critical identifiers or keys are missing\n",
    "df_acc2 = df_acc2.dropna(subset=['VKL_NUMMER', 'WVK_ID'])\n"
   ]
  },
  {
   "cell_type": "code",
   "execution_count": 9,
   "id": "1fffa72c-633b-4038-911f-9e3214842066",
   "metadata": {},
   "outputs": [
    {
     "data": {
      "text/plain": [
       "(864510, 13)"
      ]
     },
     "execution_count": 9,
     "metadata": {},
     "output_type": "execute_result"
    }
   ],
   "source": [
    " df_acc2.shape"
   ]
  },
  {
   "cell_type": "code",
   "execution_count": 11,
   "id": "9b2b2c60-617a-439e-ae4f-08b84dd39404",
   "metadata": {},
   "outputs": [],
   "source": [
    "file_info = \"../data/raw/partijen.txt\"\n",
    "\n",
    "df_A=pd.read_csv(file_info, low_memory=False)"
   ]
  },
  {
   "cell_type": "code",
   "execution_count": null,
   "id": "2974b354-ab5e-4c56-97cd-2f1183616dbe",
   "metadata": {},
   "outputs": [],
   "source": [
    "df_A.head()"
   ]
  },
  {
   "cell_type": "code",
   "execution_count": null,
   "id": "b2fa5655-c497-405b-840b-c050b9dd6a14",
   "metadata": {},
   "outputs": [],
   "source": [
    "df_A['PTJ_ID'].head()"
   ]
  },
  {
   "cell_type": "code",
   "execution_count": null,
   "id": "d51d0321-f429-43f1-9353-de0e8d8e098c",
   "metadata": {
    "scrolled": true
   },
   "outputs": [],
   "source": [
    "df_A.isnull().sum()"
   ]
  },
  {
   "cell_type": "code",
   "execution_count": null,
   "id": "f5006557-37b8-4739-b8ce-b95a82116fa3",
   "metadata": {},
   "outputs": [],
   "source": [
    "# df_A = df_A.dropna(subset=['TDT_AN'])\n",
    "# df_A = df_A.dropna(subset=['OTE_AN'] )"
   ]
  },
  {
   "cell_type": "code",
   "execution_count": null,
   "id": "9988b2a6-f8cb-4402-88c6-438881f0b186",
   "metadata": {},
   "outputs": [],
   "source": [
    "df_A[df_A['OTE_AN'].str.contains(\"|\")==True][['OTE_AN']].head()"
   ]
  },
  {
   "cell_type": "code",
   "execution_count": 13,
   "id": "cda76bb1-15db-44b9-82c5-140fb4652e64",
   "metadata": {},
   "outputs": [
    {
     "data": {
      "text/plain": [
       "array([nan, 'Verloren onderdeel', 'Verloren lading', 'politievoertuig',\n",
       "       'Geparkeerde Aanhangwagen', 'politievtg opt en geluidsignal',\n",
       "       'Onderdeel botsing', 'kampeerwagen', 'ambu opt en geluidsignalen',\n",
       "       'politiemotor', 'politievrtg opt', 'quad', 'E-bike', 'politievrtg',\n",
       "       'bouwkraan', 'hijskraan', 'Paard en wagen', 'kolkwagen',\n",
       "       'graafmachine', 'hakselaar', 'OPLEGGER', 'Onbekend', 'AANHANGER',\n",
       "       'BOMEN', 'AANHANGER < 750', 'HIJSKRAAN', 'HUISDIER', 'BOUWKRAAN',\n",
       "       'LANDBOUWVOERTU', 'COMPUTER', 'STRUIKEN', 'RIJTUIG',\n",
       "       'BOUWVOERTUIG', 'KENTEKENBEWIJS', 'WILD', 'KAMPEERWAGEN',\n",
       "       'OPENBAARVERVOE', 'TOURCARAVAN', 'OVERIG', 'OPSLAGTANK',\n",
       "       'GRAAFMACHINE', 'CONTAINER', 'VEE', 'RIJBEWIJS', 'QUAD',\n",
       "       'VUURWAPEN', 'ROLLATOR', 'HOOGWERKER', 'KENTEKENPLAAT', 'GRILLE',\n",
       "       'VERLICHTING', 'VORKHEFTRUCK', 'NAVIGATIESYSTE', 'WINKELWAGEN',\n",
       "       'ROLSTOEL', 'PLANTEN', 'VEEGMACHINE', 'TUINGEREEDSCHA', 'WALS',\n",
       "       'MINIBIKE', 'KLANTENPAS', 'BON', 'BANKBESCHEIDEN', 'OVERIGE',\n",
       "       'IMPERIAAL', 'CREDITCARD', 'SCHAATSARTIKEL', 'SPEELGOED',\n",
       "       'MOTORBOOT', 'SEGWAY', 'MMBS', 'PLOERTENDODER', 'FIETSAANHANGER',\n",
       "       'ONDERDEEL A-BOTSING', 'SKELTER', 'VUURWERK', 'BUMPER',\n",
       "       'RANDAPPARATUUR', 'STROOMSTOOTWAP', 'BEGRENZER', 'MES', 'PAPIER',\n",
       "       'PASPOORT', 'RUITENWISSER', 'VERLOREN LADING', 'METRO', 'BAND',\n",
       "       'ONDERDEEL_GRAA', 'BOKSBEUGEL', 'REISDOCUMENT', 'MUNITIE',\n",
       "       'KINDERWAGEN', 'BOTSABSORDER', 'GEEN PARTIJ', 'ONBEKEND', 'BEELD',\n",
       "       'STUK GROND', 'ALARMINSTALLAT', 'BESTRATING', 'BRANDWEERAUTO',\n",
       "       'AUTOAMBULANCE', 'PLAATMATERIAAL', 'PORTEMONNEE', 'EURO', 'BANK',\n",
       "       'SHOVEL', 'SCOOTER', 'BRIL', 'GELUIDSWAL', 'TOEGANGSPOORT',\n",
       "       'TEGELS', 'MOTORSTEP', 'POLITIEAUTO', 'BEVESTIGINGSMA', 'POST',\n",
       "       'KABEL', 'SPOOR/RAILMAT', 'BENZINEPOMP', 'MOTORSCOOTER',\n",
       "       'INVALIDENWAGEN', 'POMP', 'RAAM', 'RUIT', 'STEIGER', 'TELEFOON',\n",
       "       'BOOM', ' E-BIKE', 'ONDERDEEL A BOTSER', 'STEEN', 'TUIGAGE',\n",
       "       'VERLOREN ONDERDEEL', 'hoogwerker', 'heftruck', 'ZEILBOOT',\n",
       "       'GEBOUW', 'DRIEWIELER', 'ONDERDEEL BOTSING', 'KRAANWAGEN',\n",
       "       'AKTIEWAGEN', 'HEFBRUG', 'rolstoel', 'LUIFEL', 'FIETSSTANDAARD',\n",
       "       'VUILNISZAK', 'WANDELWAGEN', 'METERKAST', 'FLES', 'WOONWAGEN',\n",
       "       'SKATES', 'GASPATROON', 'STACARAVAN', 'DAKBEDEKKING', 'PRAATPAAL',\n",
       "       'KAST', 'HOUT', 'BUIS', 'AMBULANCE', 'DRUKWERK', 'PARKEERMETER',\n",
       "       'OVERIG BLOKPAAL', 'HENNEPPLANT', 'PORTEFEUILLE', 'AANHANGWAGEN',\n",
       "       'BETAALAUTOMAAT', 'TAS', 'BOLDERWAGEN', 'VANGRAIL',\n",
       "       'VAARWEGMARKERI', 'VOGEL', 'CAMERA', 'VOUWCARAVAN', 'BLOEM',\n",
       "       'STOEL', 'AGGREGAAT', 'TAFEL', 'MOTOR', 'VOERTUIGEN', 'BOEK',\n",
       "       'DEUR', 'ETALAGE', 'GOLFARTIKEL', 'BEDRIJFSWAGEN', 'POLLER',\n",
       "       'HORLOGE', 'STEEKWAGEN', 'GLAS', 'SLOEP', 'ISOLATIE',\n",
       "       'VERKEERSSPIEGE', 'ZONNECOLLECTOR', 'VERPAKKINGSMAT', 'SLOT',\n",
       "       'ARMBAND', 'PERSOONLIJKE V', 'DEKSEL', 'VLAGGEMAST',\n",
       "       'KAMPEERARTIKEL', 'SLUIS', 'PARASOL', 'ZAND', 'RIOOLPUT', 'SLANG',\n",
       "       'SNOER', 'KIST', 'BLIKJE', 'GOOT', 'KART', 'SPEELTOESTEL',\n",
       "       'BINNENVAART GR', 'WINDSCHERM', 'BINNENVAART KL', 'LOKOBJECT',\n",
       "       'VEERBOOT', 'DRAAD', 'VERKEERSTELLER', 'WATERSPORTARTI',\n",
       "       'MONUMENT', 'BROMMOBIEL', 'SCHAKELMATERIA', 'VOETBALARTIKEL',\n",
       "       'PALLETWAGEN', 'LADDER', 'FUST', 'FLITSPAAL', 'BINNENVAART GRO',\n",
       "       'VRACHTSCHIP', 'SPROEIINSTALLA', 'STEIGERMATERIA', 'STENEN',\n",
       "       'BANKSTEL', 'BULLDOZER', 'HONKBALARTIKEL', 'KRUIWAGEN', 'CEMENT',\n",
       "       'VOUWWAGEN', 'DIERBENODIGDHE', 'PALLET', 'INSTALLATIE', 'ROLLUIK',\n",
       "       'BEDRIJFSAUTO', 'JERRYCAN', 'SPEEL/GOK', 'OORMERK', 'GAAS',\n",
       "       'RELAIS', 'COMPRESSOR', 'ZONWERING', 'KUNSTSTOF', 'ROEIBOOT',\n",
       "       'GENERATOR', 'MOTORBOOTVAARTUIG', 'AANHANGER 750',\n",
       "       'CONTAINERCOLLI FUST', 'TELEFOONAUTOMAAT',\n",
       "       'WATERBRANDSTOF/ELECTRA/GAS',\n",
       "       'SPEELGOEDSTEPSPEELGOED SPORTARTIKELEN',\n",
       "       'SPEELGOEDSPEELGOED SPORTARTIKELEN', 'VRACHTAUTOTANKWAGEN', 'TAXI',\n",
       "       'ROOKWAARSIGARETTENVOEDING/GENOTMIDDELEN',\n",
       "       'MOTORBOOTSPEEDVAARTUIG', 'TOURCARAVANCARAVAN', 'PAARD EN WAGEN',\n",
       "       'STUK GRONDONROEREND GOED', 'BESTELAUTOPICKUP', 'VEEPAARD',\n",
       "       'MOTORBENZINEOVERIGE MACHINES', 'ROOSTER',\n",
       "       'FEESTARTIKELSPEELGOED SPORTARTIKELEN', 'GEBOUWONROEREND GOED',\n",
       "       'PAPIERBOEK DRUKWERK DOCUMENT', 'POTCOLLI FUST',\n",
       "       'BINNENVAART GRRONDVAARTBOOTBINNENVAART',\n",
       "       'BINNENVAART KLOVERIG BINNENVBINNENVAART', 'BUS',\n",
       "       'STOELTUINMEUBILAIR STOFFERING', 'OPENBAARVERVOEBUS',\n",
       "       'BENZINEPOMPAUTOMAAT', 'BANKTUINMEUBILAIR STOFFERING',\n",
       "       'MATMEUBILAIR STOFFERING', 'KLEINMEUBELMEUBILAIR STOFFERING',\n",
       "       'FLESCOLLI FUST', 'KOKERCOLLI FUST',\n",
       "       'SLAAPKAMERMEUBILAIR STOFFERING',\n",
       "       'SPEELGOEDOVERIGESPEELGOED SPORTARTIKELEN',\n",
       "       'METERBRANDSTOF ELECTRA GAS', 'DOCUMENTBOEK DRUKWERK DOCUMENT',\n",
       "       'PAARDENSPORTARSPEELGOED SPORTARTIKELEN', 'METAAL EDEL METALEN',\n",
       "       'OLIEBRANDSTOF ELECTRA GAS', 'STOELMEUBILAIR STOFFERING',\n",
       "       'CONTAINERKLEDINGBAK', 'VERKEERSTELLERAUTOMAAT',\n",
       "       'GASBRANDSTOF ELECTRA GAS', 'MOTORBOOTKAJUITVAARTUIG',\n",
       "       'TOEGANGSPOORTAUTOMAAT', 'VOERVOEDING GENOTMIDDELEN',\n",
       "       'DOOSCOLLI FUST', 'AANHANGERTANKWAGEN',\n",
       "       'GROENTEVOEDING GENOTMIDDELEN', 'AANHANGERTANDEMAS',\n",
       "       'STACARAVANCARAVAN', 'VOETBALARTIKELSPEELGOED SPORTARTIKELEN',\n",
       "       'VOUWWAGENCARAVAN', 'AANHANGERBAGAGEWAGEN', 'MONUMENTKUNST',\n",
       "       'LUIFELMEUBILAIR STOFFERING', 'BANKMEUBILAIR STOFFERING',\n",
       "       'WATERBRANDSTOF ELECTRA GAS', 'ELECTRABRANDSTOF ELECTRA GAS',\n",
       "       'OPENBAARVERVOETRAM', 'HEFBRUGOVERIGE MACHINES',\n",
       "       'IJZER EDEL METALEN', 'WOONWAGENCARAVAN',\n",
       "       'KAARTENAUTOMAATAUTOMAAT', 'BANKSTELMEUBILAIR STOFFERING',\n",
       "       'STAAL EDEL METALEN', 'VOEDSELVOEDING GENOTMIDDELEN',\n",
       "       'POMPOVERIGE MACHINES', 'VERKEERSZUIL',\n",
       "       'COMPRESSOROVERIGE MACHINES', 'KRATCOLLI FUST',\n",
       "       'MOTOROVERIGE MACHINES', 'PARASOLMEUBILAIR STOFFERING',\n",
       "       'VEESCHAAP', 'HEKWERK', 'WILDREE', 'STAAL', 'MUUR', 'SKEELERS',\n",
       "       'SCHRIKDRAAD', 'HEK/POORT', 'ALUMINIUM', 'TOUR', 'PLANTENBAK',\n",
       "       'WILDOVERIGE', 'SCHUTTING', 'VEERUND', 'WILDGEVOGELTE',\n",
       "       'ONBEKEND VOERTUIG', 'SOORT VAN INVALIDEVOERTUIG', 'OLIESPOOR',\n",
       "       'KABELKAST', 'TALUD', 'SCHEUREN DOOR BOOMWORTELS', 'ALCOHOL',\n",
       "       'TUINARTIKELENOVERIGE', 'VEEVARKEN', 'TUINARTIKELEN',\n",
       "       'MOTORTANKSCHIP', 'CARRIER', 'HANDBIKE', 'PERO', 'STINT',\n",
       "       'MOTORELEKTRISCH', 'SANITAIRTOILETCONTAINE', 'BRIEVENBUS', 'JEEP',\n",
       "       'PIJP', 'HAKSELAAR', 'SKATEBOARD', 'WILDZWIJN', 'STEP',\n",
       "       'CONTAINERSCHIP', 'ELECTRA', 'VEEPONY', 'HOVERBOARD',\n",
       "       'MODELBOUWBOOT', 'MODELBOUW', 'PUTDEKSEL', 'GARAGEDEUR',\n",
       "       'CAMERABEVEILIGING', 'OMOTORVRACHTSCHI', 'BEVOORRAD.SCHI',\n",
       "       'GOLFARTIKELGOLFKAR', 'SPROEIINSTALLAKANON', 'SANITAIR',\n",
       "       'MONUMENTOVERIGE', 'SPOOR/RAILMATOVERIG', 'MOLEN', 'OXBOARD',\n",
       "       'AARDAPPEL', 'PONYCONCOURSWAGEN', 'WANDELWAGENBUGGY', 'MEST',\n",
       "       'METAAL', 'ELECTR. SKATEBOARD', 'PIJPREGEN', 'BARKRUK',\n",
       "       'GIETIJZER', 'STOELTUIN', 'TAFELTUIN', 'ELEKTRISCHE STEP', 'BUGGY',\n",
       "       'SPIEGEL', 'MOTORBENZINE', 'FRISDRANK', 'KOZIJN', 'HEFTRUCK',\n",
       "       'SKATEBOARDER', 'GELD', 'MOTORDIESEL', 'VEEGEIT', 'SCHOONMAAKMIDD',\n",
       "       'PLAATMATERIAALDAMWAND', 'ONBEKEND(VOERTUIG)', 'KRAT', 'POSTKAR',\n",
       "       'SKATEBOARD GEMOTORISEERD', 'IJZER', 'GOLFKAR', 'VERLICHTINGTUIN',\n",
       "       'LONGBOARD', 'Onbekend voertuig i.g.v. doorrijder', 'ROLSCHAATSEN',\n",
       "       'BANKTUIN', 'WOONBOOT', 'WATERMETER', 'FEESTARTIKEL',\n",
       "       'KINDER CROSSMOTOR', 'TRANSPORTBAND', 'VERLICHTINGLAMPENKAP',\n",
       "       'HOK', 'ELEKTRISCHE DRIEWIELER', 'PLAATMATERIAALRIJPLAAT', 'STA',\n",
       "       'TUINARTIKELENVIJVER', 'MODELBOUWRADIOGRAF', 'GAS',\n",
       "       'VOEDINGSMIDDEL', 'ELEKTRISCHE BROMFIETS', 'BODEMVERBETERA',\n",
       "       'bagagetrekker+aanhangwagens', 'TRAMPOLINE', 'BETAAL',\n",
       "       'SLAAPKAMERBED', 'MOTORVRACHT', 'SPEELGOEDSTEP',\n",
       "       'AGGREGAATOVERIGE MACHINES', 'STRUIKENCONIFEER', 'STEKKAST',\n",
       "       'ARMATUUR', 'TRAM', 'MOTORELEKTRISCHOVERIGE MACHINES',\n",
       "       'MOBIELE MACHINE', 'DEURGARAGEDEUR', 'SPEELGOEDBAL',\n",
       "       'SPEELGOEDSKATEBOARD', 'VOUW', 'SLEEPBOOT', 'KLEINMEUBELMINISET',\n",
       "       'KLEINMEUBEL', 'NET', 'BOX', 'OVERIGESPEELDOOS', 'SANITAIRTOILET',\n",
       "       'TAPIJTVLOERKLEED', 'VISARTIKELVISKOFFER', 'ZWEMBAD',\n",
       "       'RAAMDAKRAAM', 'CARAVAN', 'VOERTUIG', 'KRACHTSPORTARTHALTER',\n",
       "       'SPEELGOEDSKELTER', 'STOF', 'STRUIKENBUXUS', 'SPEED PEDELEC',\n",
       "       'DEKSELPUTDEKSEL', 'LOSSE AANHANGWAGEN',\n",
       "       'BOCHTAANWIJZERONDERDELEN ', 'LOOD', 'APPARAATGOED',\n",
       "       'PAARDENTRAILER', 'SCHAATSARTIKELSKEELERS',\n",
       "       'INSTALLATIESCHRIKDRAAD', 'HAKSELAAROVERIGE MACHINES', 'ANDERS',\n",
       "       'HOEKWONINGWONING', 'METER', 'Rupsvoertuig', 'Aanhangwagen',\n",
       "       'Oplegger', 'Pallets carrier/roro', 'Dispenser', 'DIEPLADER',\n",
       "       'ELEKTRISCH HOVERBOARD', 'POTGROND',\n",
       "       'COLLECTEBUSBRANDKAST/KLUIS/GELDKIST',\n",
       "       'ONBEKEND VOERTUIG I.G.V. DOORRIJDER', 'OPLEGGR',\n",
       "       'ELEKTRISCH VOERTUIG', 'ATLETIEKARTIKE', 'KAARTEN',\n",
       "       'GEHANDICAPTENVOERTUIG', 'CROSSMOTOR', 'WATER',\n",
       "       'VRACHTSCHIPZEEVAART', 'HUIFKAR', 'BEDRIJFSAUTOVRACHTAUTO',\n",
       "       'ONBEKEND VOERTUIG I.G.V. DOORRIJDERâ\\x80\\x99', 'E-STEP',\n",
       "       'PAARDENSPORTAR', 'ONBEKENDE VOERTUIG', 'SKEELER',\n",
       "       'BINNENVAART GRPASSAGIERSSCHIBINNENVAART', 'ROTOR',\n",
       "       'AANHANGERWAGEN', 'ONBEKEND VOERTUIG I.G.V DOORRIJDER',\n",
       "       'PARFUMERIEENCOSMETICA', 'INVALIDEWAGEN', 'BASKETBALARTIK',\n",
       "       'OPSLAGTANKAANHANGER/OPLEGGER', 'GENERATOROVERIGE MACHINES',\n",
       "       'STRUIKENSKIMMIA', 'SWEELMACHINE', 'SKATEBAORD',\n",
       "       'ONBEKEN VOERTUIG', 'ELEKTRISCH SKATEBOARD',\n",
       "       'BEDRIJFSAUTOBESTELAUTO', 'EKTRISCHE STEP',\n",
       "       'GEHANDICAPTEN VOERTUIG', 'FATBIKE', 'TRAP BOUWMATER',\n",
       "       'SPEELGOEDHOVERBOARD', 'KAMPEERARTIKELTENT', 'PARTIJ ONTBREEKT',\n",
       "       'LANDBOUWTREKKER', 'BIJZ. BROMFIETS', 'SPEEDPEDELEC',\n",
       "       'SURFARTIKEL', 'ZAK PLASTIC', 'onbekend voertuig', 'AANSTEKER',\n",
       "       'GROENTE', 'GESLEEPT', 'AANGHANGWAGEN', 'ONROEREND GOED',\n",
       "       'SLAAPKAMER', 'ELEKRISCHE STEP', 'GOED', 'VUILNISWAGEN', 'MAAIER',\n",
       "       'FIETSKAR', 'VOERTUIG ONBEKEND', 'INVALIDEN VOERTUIG',\n",
       "       'ZAK PAPIER', '3W MOTORRIJTUIG', 'GIERTANK', 'INVALIDENVOERTUIG',\n",
       "       'LUCHTVAARTUIG', 'ELECTRISCHE STEP', 'VLAGGENSTOK', 'PONTON',\n",
       "       'TON', 'FABIKE', 'TAKELWAGEN', 'FAT BIKE', 'CAMPER',\n",
       "       'ONBEKEND VIERTUIG', 'SPEELGOEDEENWIELER', 'LOSSE CARAVAN',\n",
       "       'ELEKTRISCHE-STEP', 'APPARAAT', 'SHOWKAST', 'GESLEEPT VOERTUIG',\n",
       "       'KANTOOR', 'ELECKTRISCHE STEP', 'RUPSVOERTUIG', 'KAMPEERBUS',\n",
       "       'TANK'], dtype=object)"
      ]
     },
     "execution_count": 13,
     "metadata": {},
     "output_type": "execute_result"
    }
   ],
   "source": [
    "df_A['OTE_AN'].unique()"
   ]
  },
  {
   "cell_type": "code",
   "execution_count": null,
   "id": "58a9345d-1bb3-4f9a-9899-a439d0bf2707",
   "metadata": {},
   "outputs": [],
   "source": [
    "df_A['TDT_AN'].unique()"
   ]
  },
  {
   "cell_type": "code",
   "execution_count": 19,
   "id": "0502198a-5353-463e-a2a7-65591b43c3f1",
   "metadata": {},
   "outputs": [],
   "source": [
    "# Keywords related to bikes in OTE_AN\n",
    "bike_keywords_ote = [\n",
    "    'FIETS', 'E-BIKE', 'SPEED PEDELEC', 'SPEEDPEDELEC', 'FIETSKAR',\n",
    "    'FIETSAANHANGER', 'DRIEWIELER', 'HANDBIKE', 'FATBIKE', 'FAT BIKE',\n",
    "    'SKELTER', 'BUGGY', 'ELEKTRISCHE-STEP', 'ELEKTRISCHE STEP', 'ELEKTRISCHE DRIEWIELER'\n",
    "]\n",
    "\n",
    "# Keywords indicating cyclist-related circumstances in TDT_AN\n",
    "bike_keywords_tdt = [\n",
    "    'FIETS', 'FIETSPAD', 'EVENWICHT', 'PORTIER OPENEN', 'GEEN VERLICHTING',\n",
    "    'OBSTAKEL', 'SLECHT WEGDEK', 'AUTO OP FIETSPAD', 'ONVOORZICHTIG OP WEG'\n",
    "]\n",
    "\n",
    "bike_accidents = df_A[(df_A['OTE_AN'].isin(bike_keywords_ote)) | (df_A['TDT_AN'].isin(bike_keywords_tdt))]\n",
    "\n",
    "# Filter rows where either column contains one of the keywords (case-insensitive)\n",
    "#bike_accidents = df_A[\n",
    "#    df_A['OTE_AN'].str.contains('|'.join(bike_keywords_ote), case=False, na=False) |\n",
    "#    df_A['TDT_AN'].str.contains('|'.join(bike_keywords_tdt), case=False, na=False)\n",
    "#]\n"
   ]
  },
  {
   "cell_type": "code",
   "execution_count": 21,
   "id": "be08fc00-9f57-435a-92f0-3f83e1a5063a",
   "metadata": {},
   "outputs": [],
   "source": [
    "bike_accidents = bike_accidents[['PTJ_ID', 'VKL_NUMMER', 'NUMMER','OTE_AN','TDT_AN']]\n"
   ]
  },
  {
   "cell_type": "code",
   "execution_count": 23,
   "id": "3c0456d7-f64b-43fb-8512-f52871046bcd",
   "metadata": {},
   "outputs": [
    {
     "data": {
      "text/html": [
       "<div>\n",
       "<style scoped>\n",
       "    .dataframe tbody tr th:only-of-type {\n",
       "        vertical-align: middle;\n",
       "    }\n",
       "\n",
       "    .dataframe tbody tr th {\n",
       "        vertical-align: top;\n",
       "    }\n",
       "\n",
       "    .dataframe thead th {\n",
       "        text-align: right;\n",
       "    }\n",
       "</style>\n",
       "<table border=\"1\" class=\"dataframe\">\n",
       "  <thead>\n",
       "    <tr style=\"text-align: right;\">\n",
       "      <th></th>\n",
       "      <th>PTJ_ID</th>\n",
       "    </tr>\n",
       "  </thead>\n",
       "  <tbody>\n",
       "    <tr>\n",
       "      <th>32328</th>\n",
       "      <td>26052294</td>\n",
       "    </tr>\n",
       "    <tr>\n",
       "      <th>60168</th>\n",
       "      <td>26084674</td>\n",
       "    </tr>\n",
       "    <tr>\n",
       "      <th>66861</th>\n",
       "      <td>26093279</td>\n",
       "    </tr>\n",
       "    <tr>\n",
       "      <th>74127</th>\n",
       "      <td>26083750</td>\n",
       "    </tr>\n",
       "    <tr>\n",
       "      <th>77081</th>\n",
       "      <td>26061609</td>\n",
       "    </tr>\n",
       "  </tbody>\n",
       "</table>\n",
       "</div>"
      ],
      "text/plain": [
       "         PTJ_ID\n",
       "32328  26052294\n",
       "60168  26084674\n",
       "66861  26093279\n",
       "74127  26083750\n",
       "77081  26061609"
      ]
     },
     "execution_count": 23,
     "metadata": {},
     "output_type": "execute_result"
    }
   ],
   "source": [
    "bike_accidents[['PTJ_ID']].head()"
   ]
  },
  {
   "cell_type": "code",
   "execution_count": 25,
   "id": "70aeff0b-169a-478e-b816-bf02f224b47e",
   "metadata": {
    "scrolled": true
   },
   "outputs": [
    {
     "data": {
      "text/plain": [
       "PTJ_ID          0\n",
       "VKL_NUMMER      0\n",
       "NUMMER          0\n",
       "OTE_AN          8\n",
       "TDT_AN        387\n",
       "dtype: int64"
      ]
     },
     "execution_count": 25,
     "metadata": {},
     "output_type": "execute_result"
    }
   ],
   "source": [
    "bike_accidents.isnull().sum()"
   ]
  },
  {
   "cell_type": "code",
   "execution_count": 27,
   "id": "7830ce58-1437-4708-921d-aaebce029363",
   "metadata": {},
   "outputs": [],
   "source": [
    "file_info = \"../data/raw/wegvakgeografie_01012024.csv\"\n",
    "\n",
    "wegvak_df=pd.read_csv(file_info, low_memory=False)"
   ]
  },
  {
   "cell_type": "code",
   "execution_count": 29,
   "id": "2d81d7aa-cafd-4ea1-9101-e4befd3707c9",
   "metadata": {},
   "outputs": [
    {
     "data": {
      "text/plain": [
       "((38887, 42),\n",
       "         wvk_id   gme_naam                                              shape\n",
       " 10   239374087  Amsterdam  LINESTRING (119808.14400000125 487129.29500000...\n",
       " 31   600416574  Amsterdam  LINESTRING (120287.60770000145 485849.17119999...\n",
       " 258  234376081  Amsterdam  LINESTRING (117476.56010000035 488051.62629999...\n",
       " 264  231369048  Amsterdam  LINESTRING (115864.78000000119 484508.03849999...\n",
       " 265  230374012  Amsterdam  LINESTRING (115203.02639999986 487453.90980000...)"
      ]
     },
     "execution_count": 29,
     "metadata": {},
     "output_type": "execute_result"
    }
   ],
   "source": [
    "# Filter the wegvak dataset for rows where the municipality is Amsterdam\n",
    "wegvak_amsterdam = wegvak_df[wegvak_df['gme_naam'].str.lower() == 'amsterdam']\n",
    "\n",
    "# Check how many rows and preview a few\n",
    "wegvak_amsterdam.shape, wegvak_amsterdam[['wvk_id', 'gme_naam', 'shape']].head()\n"
   ]
  },
  {
   "cell_type": "code",
   "execution_count": 31,
   "id": "11b1e60e-1e0d-4bd0-849d-fd0ab094e1da",
   "metadata": {},
   "outputs": [],
   "source": [
    "columns_to_keep = [\n",
    "    'wvk_id',           # Road Segment ID\n",
    "    'wvk_begdat',       # Start Date\n",
    "    'wvk_enddat',       # End Date (optional if not always available)\n",
    "    'wegnummer',        # Road Number\n",
    "    'stt_naam',         # Street Name\n",
    "    'wpsnaam',          # Neighborhood Name\n",
    "    'gme_naam',         # Municipality Name\n",
    "    'rijrichtng',       # Driving Direction\n",
    "    'wegbehsrt',        # Road Type / Category\n",
    "    'shape'             # Geometry\n",
    "]\n"
   ]
  },
  {
   "cell_type": "code",
   "execution_count": 33,
   "id": "01925f9a-298d-4885-af28-041f0fc681d3",
   "metadata": {},
   "outputs": [],
   "source": [
    "wegvak_amsterdam = wegvak_amsterdam[columns_to_keep]\n",
    "\n",
    "# Drop rows with NaN in critical columns\n",
    "wegvak_amsterdam = wegvak_amsterdam.dropna(subset=['wvk_id', 'wegnummer', 'stt_naam', 'shape'])\n"
   ]
  },
  {
   "cell_type": "code",
   "execution_count": 35,
   "id": "bdbe4c81-9bf6-46a5-9ffb-37c6a117426c",
   "metadata": {},
   "outputs": [],
   "source": [
    "# Ensure column name consistency for the join\n",
    "bike_data_geo = df_acc2.copy()\n",
    "\n",
    "# Confirm WVK_ID exists in both datasets\n",
    "if 'WVK_ID' in bike_data_geo.columns and 'wvk_id' in wegvak_amsterdam.columns:\n",
    "    # Merge on WVK_ID\n",
    "    bike_amsterdam_geo = bike_data_geo.merge(\n",
    "        wegvak_amsterdam,\n",
    "        left_on='WVK_ID',\n",
    "        right_on='wvk_id',\n",
    "        how='inner'\n",
    "    )\n",
    "    match_found = True\n",
    "else:\n",
    "    bike_amsterdam_geo = pd.DataFrame()\n",
    "    match_found = False\n",
    "\n",
    "# Output results\n",
    "# match_found, bike_amsterdam_geo[['Accident_ID', 'Vehicle_Type', 'Municipality', 'wvk_id', 'shape']].head() if match_found else \"No matches found\"\n"
   ]
  },
  {
   "cell_type": "code",
   "execution_count": 37,
   "id": "0612c0d3-ab6d-4062-827a-fe50222a0272",
   "metadata": {},
   "outputs": [
    {
     "data": {
      "text/plain": [
       "Index(['VKL_NUMMER', 'TIJDSTIP', 'UUR', 'JAAR_VKL', 'ANTL_DOD', 'ANTL_GZH',\n",
       "       'ANTL_SEH', 'WVK_ID', 'GME_NAAM', 'PLT_NAAM', 'BZD_VM_AN', 'BZD_IF_AN',\n",
       "       'BZD_TA_AN', 'wvk_id', 'wvk_begdat', 'wvk_enddat', 'wegnummer',\n",
       "       'stt_naam', 'wpsnaam', 'gme_naam', 'rijrichtng', 'wegbehsrt', 'shape'],\n",
       "      dtype='object')"
      ]
     },
     "execution_count": 37,
     "metadata": {},
     "output_type": "execute_result"
    }
   ],
   "source": [
    "bike_amsterdam_geo.columns"
   ]
  },
  {
   "cell_type": "code",
   "execution_count": 39,
   "id": "ab948036-8176-43c3-99a8-b0a11a2a5f47",
   "metadata": {},
   "outputs": [
    {
     "data": {
      "text/plain": [
       "PTJ_ID          0\n",
       "VKL_NUMMER      0\n",
       "NUMMER          0\n",
       "OTE_AN          8\n",
       "TDT_AN        387\n",
       "dtype: int64"
      ]
     },
     "execution_count": 39,
     "metadata": {},
     "output_type": "execute_result"
    }
   ],
   "source": [
    "bike_accidents.isnull().sum()"
   ]
  },
  {
   "cell_type": "code",
   "execution_count": 41,
   "id": "d2843e33-8c3b-4d3a-994e-8a44246c8161",
   "metadata": {},
   "outputs": [
    {
     "data": {
      "text/html": [
       "<div>\n",
       "<style scoped>\n",
       "    .dataframe tbody tr th:only-of-type {\n",
       "        vertical-align: middle;\n",
       "    }\n",
       "\n",
       "    .dataframe tbody tr th {\n",
       "        vertical-align: top;\n",
       "    }\n",
       "\n",
       "    .dataframe thead th {\n",
       "        text-align: right;\n",
       "    }\n",
       "</style>\n",
       "<table border=\"1\" class=\"dataframe\">\n",
       "  <thead>\n",
       "    <tr style=\"text-align: right;\">\n",
       "      <th></th>\n",
       "      <th>PTJ_ID</th>\n",
       "      <th>VKL_NUMMER</th>\n",
       "      <th>NUMMER</th>\n",
       "      <th>OTE_AN</th>\n",
       "      <th>TDT_AN</th>\n",
       "    </tr>\n",
       "  </thead>\n",
       "  <tbody>\n",
       "    <tr>\n",
       "      <th>32328</th>\n",
       "      <td>26052294</td>\n",
       "      <td>20140096088</td>\n",
       "      <td>1</td>\n",
       "      <td>NaN</td>\n",
       "      <td>PORTIER OPENEN</td>\n",
       "    </tr>\n",
       "    <tr>\n",
       "      <th>60168</th>\n",
       "      <td>26084674</td>\n",
       "      <td>20140113085</td>\n",
       "      <td>3</td>\n",
       "      <td>FIETSAANHANGER</td>\n",
       "      <td>NaN</td>\n",
       "    </tr>\n",
       "    <tr>\n",
       "      <th>66861</th>\n",
       "      <td>26093279</td>\n",
       "      <td>20140117493</td>\n",
       "      <td>2</td>\n",
       "      <td>SKELTER</td>\n",
       "      <td>NaN</td>\n",
       "    </tr>\n",
       "    <tr>\n",
       "      <th>74127</th>\n",
       "      <td>26083750</td>\n",
       "      <td>20140112604</td>\n",
       "      <td>1</td>\n",
       "      <td>NaN</td>\n",
       "      <td>PORTIER OPENEN</td>\n",
       "    </tr>\n",
       "    <tr>\n",
       "      <th>77081</th>\n",
       "      <td>26061609</td>\n",
       "      <td>20140101008</td>\n",
       "      <td>3</td>\n",
       "      <td>FIETSAANHANGER</td>\n",
       "      <td>NaN</td>\n",
       "    </tr>\n",
       "  </tbody>\n",
       "</table>\n",
       "</div>"
      ],
      "text/plain": [
       "         PTJ_ID   VKL_NUMMER  NUMMER          OTE_AN          TDT_AN\n",
       "32328  26052294  20140096088       1             NaN  PORTIER OPENEN\n",
       "60168  26084674  20140113085       3  FIETSAANHANGER             NaN\n",
       "66861  26093279  20140117493       2         SKELTER             NaN\n",
       "74127  26083750  20140112604       1             NaN  PORTIER OPENEN\n",
       "77081  26061609  20140101008       3  FIETSAANHANGER             NaN"
      ]
     },
     "execution_count": 41,
     "metadata": {},
     "output_type": "execute_result"
    }
   ],
   "source": [
    "bike_accidents.head()"
   ]
  },
  {
   "cell_type": "code",
   "execution_count": 43,
   "id": "ac2d267f-0d67-49ea-9e9b-d5bf92ef796d",
   "metadata": {},
   "outputs": [],
   "source": [
    "bike_data = bike_accidents.merge(bike_amsterdam_geo, on='VKL_NUMMER', how='outer')\n"
   ]
  },
  {
   "cell_type": "code",
   "execution_count": 49,
   "id": "1f1d864b-2e3d-4af8-b52a-bc5d2b9cb7a4",
   "metadata": {},
   "outputs": [
    {
     "data": {
      "text/plain": [
       "(12309, 27)"
      ]
     },
     "execution_count": 49,
     "metadata": {},
     "output_type": "execute_result"
    }
   ],
   "source": [
    "bike_data.shape"
   ]
  },
  {
   "cell_type": "code",
   "execution_count": null,
   "id": "e3bef0d1-ef2e-47ff-b3ba-04f1d62f9d2f",
   "metadata": {},
   "outputs": [],
   "source": []
  },
  {
   "cell_type": "code",
   "execution_count": 47,
   "id": "b21ffccf-e640-4e1a-8c72-1b80363d6a18",
   "metadata": {},
   "outputs": [
    {
     "data": {
      "text/plain": [
       "PTJ_ID        11914\n",
       "VKL_NUMMER        0\n",
       "NUMMER        11914\n",
       "OTE_AN        11922\n",
       "TDT_AN        12301\n",
       "TIJDSTIP      12309\n",
       "UUR           12309\n",
       "JAAR_VKL        395\n",
       "ANTL_DOD      12309\n",
       "ANTL_GZH      12309\n",
       "ANTL_SEH      12309\n",
       "WVK_ID          395\n",
       "GME_NAAM        395\n",
       "PLT_NAAM        395\n",
       "BZD_VM_AN     12304\n",
       "BZD_IF_AN     11873\n",
       "BZD_TA_AN     12239\n",
       "wvk_id          395\n",
       "wvk_begdat      395\n",
       "wvk_enddat     7667\n",
       "wegnummer       395\n",
       "stt_naam        395\n",
       "wpsnaam         395\n",
       "gme_naam        395\n",
       "rijrichtng      395\n",
       "wegbehsrt       395\n",
       "shape           395\n",
       "dtype: int64"
      ]
     },
     "execution_count": 47,
     "metadata": {},
     "output_type": "execute_result"
    }
   ],
   "source": [
    "bike_data.isnull().sum()"
   ]
  },
  {
   "cell_type": "code",
   "execution_count": 51,
   "id": "d1565524-6f5b-48c2-a555-b78f58223f9d",
   "metadata": {
    "scrolled": true
   },
   "outputs": [],
   "source": [
    "# Drop 'WVK_ID' (duplicate of 'wvk_id') and 'Unnamed: 0' (auto index column)\n",
    "bike_data = bike_data.drop(columns=['WVK_ID'])\n",
    "rename_dict = {\n",
    "    'PTJ_ID': 'Participant_ID',\n",
    "    'VKL_NUMMER': 'Accident_ID',\n",
    "    'NUMMER': 'Case_Number',\n",
    "    'OTE_AN': 'Object_Involved',\n",
    "    'TDT_AN': 'Contributing_Factor',\n",
    "    'TIJDSTIP': 'Time',\n",
    "    'UUR': 'Hour',\n",
    "    'JAAR_VKL': 'Accident_Year',\n",
    "    'ANTL_DOD': 'Fatalities',\n",
    "    'ANTL_GZH': 'Severe_Injuries',\n",
    "    'ANTL_SEH': 'Emergency_Room_Injuries',\n",
    "    'WVK_ID': 'RoadSegment_ID',\n",
    "    'GME_NAAM': 'Municipality',\n",
    "    'PLT_NAAM': 'Police_Area',\n",
    "    'BZD_VM_AN': 'Vehicle_Type',\n",
    "    'BZD_IF_AN': 'Object_Collided_With',\n",
    "    'BZD_TA_AN': 'Other_Party_Involved',\n",
    "    'wvk_id': 'RoadSegment_ID',  # duplicate\n",
    "    'wvk_begdat': 'Segment_StartDate',\n",
    "    'wvk_enddat': 'Segment_EndDate',\n",
    "    'wegnummer': 'RoadNumber',\n",
    "    'stt_naam': 'StreetName',\n",
    "    'wpsnaam': 'Neighborhood',\n",
    "    'gme_naam': 'Municipality',  # duplicate\n",
    "    'rijrichtng': 'DrivingDirection',\n",
    "    'wegbehsrt': 'RoadType',\n",
    "    'shape': 'Geometry'\n",
    "}\n",
    "\n",
    "# Step 3: Optional rename for clarity (if needed)\n",
    "bike_data = bike_data.rename(columns=rename_dict)"
   ]
  },
  {
   "cell_type": "code",
   "execution_count": 53,
   "id": "58816ee8-dec8-49d1-99ce-f79adfeae066",
   "metadata": {},
   "outputs": [
    {
     "data": {
      "text/plain": [
       "['Participant_ID',\n",
       " 'Accident_ID',\n",
       " 'Case_Number',\n",
       " 'Object_Involved',\n",
       " 'Contributing_Factor',\n",
       " 'Time',\n",
       " 'Hour',\n",
       " 'Accident_Year',\n",
       " 'Fatalities',\n",
       " 'Severe_Injuries',\n",
       " 'Emergency_Room_Injuries',\n",
       " 'Municipality',\n",
       " 'Police_Area',\n",
       " 'Vehicle_Type',\n",
       " 'Object_Collided_With',\n",
       " 'Other_Party_Involved',\n",
       " 'RoadSegment_ID',\n",
       " 'Segment_StartDate',\n",
       " 'Segment_EndDate',\n",
       " 'RoadNumber',\n",
       " 'StreetName',\n",
       " 'Neighborhood',\n",
       " 'Municipality',\n",
       " 'DrivingDirection',\n",
       " 'RoadType',\n",
       " 'Geometry']"
      ]
     },
     "execution_count": 53,
     "metadata": {},
     "output_type": "execute_result"
    }
   ],
   "source": [
    "# Display updated column names\n",
    "bike_data.columns.tolist()"
   ]
  },
  {
   "cell_type": "code",
   "execution_count": 55,
   "id": "2cac7967-38b4-46e2-ab01-e57712911960",
   "metadata": {},
   "outputs": [],
   "source": [
    "bike_data.columns = bike_data.columns.str.lower()\n"
   ]
  },
  {
   "cell_type": "code",
   "execution_count": 57,
   "id": "7a7dc5e3-d1f9-403e-a40b-8e6f51ae5be0",
   "metadata": {},
   "outputs": [
    {
     "data": {
      "text/plain": [
       "(12309, 26)"
      ]
     },
     "execution_count": 57,
     "metadata": {},
     "output_type": "execute_result"
    }
   ],
   "source": [
    "bike_data.shape"
   ]
  },
  {
   "cell_type": "code",
   "execution_count": 65,
   "id": "e57f13d4-721f-4143-8030-d5ccb30b8213",
   "metadata": {},
   "outputs": [
    {
     "data": {
      "text/plain": [
       "participant_id             11914\n",
       "accident_id                    0\n",
       "case_number                11914\n",
       "object_involved            11922\n",
       "contributing_factor        12301\n",
       "time                       12309\n",
       "hour                       12309\n",
       "accident_year                395\n",
       "fatalities                 12309\n",
       "severe_injuries            12309\n",
       "emergency_room_injuries    12309\n",
       "municipality                 395\n",
       "police_area                  395\n",
       "vehicle_type               12304\n",
       "object_collided_with       11873\n",
       "other_party_involved       12239\n",
       "roadsegment_id               395\n",
       "segment_startdate            395\n",
       "segment_enddate             7667\n",
       "roadnumber                   395\n",
       "streetname                   395\n",
       "neighborhood                 395\n",
       "municipality                 395\n",
       "drivingdirection             395\n",
       "roadtype                     395\n",
       "geometry                     395\n",
       "dtype: int64"
      ]
     },
     "execution_count": 65,
     "metadata": {},
     "output_type": "execute_result"
    }
   ],
   "source": [
    "bike_data.isnull().sum()"
   ]
  },
  {
   "cell_type": "code",
   "execution_count": null,
   "id": "f66aa8b6-e2a2-45c2-9482-a8011894a287",
   "metadata": {},
   "outputs": [],
   "source": [
    "#bike_data.to_csv('../data/raw/bike_data2.csv')"
   ]
  },
  {
   "cell_type": "code",
   "execution_count": 101,
   "id": "dc9ccf2e-7be1-43a1-8814-34905d5d4360",
   "metadata": {},
   "outputs": [],
   "source": [
    "df_ams_cc = bike_data.drop(columns=['contributing_factor','roadtype', 'drivingdirection', 'case_number','object_involved','police_area', 'time', 'hour','other_party_involved','object_collided_with','emergency_room_injuries','severe_injuries','fatalities', 'vehicle_type'], errors='ignore')\n"
   ]
  },
  {
   "cell_type": "code",
   "execution_count": 105,
   "id": "4ec56ad7-aa2d-4653-8617-ae77e5b3a411",
   "metadata": {},
   "outputs": [],
   "source": [
    "df_ams_cc.to_csv('../data/cleaned/df_ams_cc.csv')"
   ]
  },
  {
   "cell_type": "code",
   "execution_count": 103,
   "id": "b61bca02-bd89-43b9-bc2b-479c248f59ea",
   "metadata": {},
   "outputs": [
    {
     "data": {
      "text/html": [
       "<div>\n",
       "<style scoped>\n",
       "    .dataframe tbody tr th:only-of-type {\n",
       "        vertical-align: middle;\n",
       "    }\n",
       "\n",
       "    .dataframe tbody tr th {\n",
       "        vertical-align: top;\n",
       "    }\n",
       "\n",
       "    .dataframe thead th {\n",
       "        text-align: right;\n",
       "    }\n",
       "</style>\n",
       "<table border=\"1\" class=\"dataframe\">\n",
       "  <thead>\n",
       "    <tr style=\"text-align: right;\">\n",
       "      <th></th>\n",
       "      <th>participant_id</th>\n",
       "      <th>accident_id</th>\n",
       "      <th>accident_year</th>\n",
       "      <th>municipality</th>\n",
       "      <th>roadsegment_id</th>\n",
       "      <th>segment_startdate</th>\n",
       "      <th>segment_enddate</th>\n",
       "      <th>roadnumber</th>\n",
       "      <th>streetname</th>\n",
       "      <th>neighborhood</th>\n",
       "      <th>municipality</th>\n",
       "      <th>geometry</th>\n",
       "    </tr>\n",
       "  </thead>\n",
       "  <tbody>\n",
       "    <tr>\n",
       "      <th>0</th>\n",
       "      <td>NaN</td>\n",
       "      <td>20140011930</td>\n",
       "      <td>2014.0</td>\n",
       "      <td>Amsterdam</td>\n",
       "      <td>253372001.0</td>\n",
       "      <td>2021-10-01T00:00:00</td>\n",
       "      <td>NaN</td>\n",
       "      <td>010</td>\n",
       "      <td>Ringweg-Oost</td>\n",
       "      <td>Amsterdam</td>\n",
       "      <td>Amsterdam</td>\n",
       "      <td>LINESTRING (126588.02679999918 486233.7511, 12...</td>\n",
       "    </tr>\n",
       "    <tr>\n",
       "      <th>1</th>\n",
       "      <td>NaN</td>\n",
       "      <td>20140014250</td>\n",
       "      <td>2014.0</td>\n",
       "      <td>Amsterdam</td>\n",
       "      <td>250367078.0</td>\n",
       "      <td>2021-10-01T00:00:00</td>\n",
       "      <td>NaN</td>\n",
       "      <td>010</td>\n",
       "      <td>Ringweg-Oost</td>\n",
       "      <td>Amsterdam</td>\n",
       "      <td>Amsterdam</td>\n",
       "      <td>LINESTRING (125111.05449999869 483505.16890000...</td>\n",
       "    </tr>\n",
       "    <tr>\n",
       "      <th>2</th>\n",
       "      <td>NaN</td>\n",
       "      <td>20140025144</td>\n",
       "      <td>2014.0</td>\n",
       "      <td>Amsterdam</td>\n",
       "      <td>258359006.0</td>\n",
       "      <td>2021-11-01T00:00:00</td>\n",
       "      <td>2022-05-31T00:00:00</td>\n",
       "      <td>N236</td>\n",
       "      <td>Provincialeweg</td>\n",
       "      <td>Amsterdam</td>\n",
       "      <td>Amsterdam</td>\n",
       "      <td>LINESTRING (129307 479862, 129312.89799999818 ...</td>\n",
       "    </tr>\n",
       "    <tr>\n",
       "      <th>3</th>\n",
       "      <td>NaN</td>\n",
       "      <td>20140030701</td>\n",
       "      <td>2014.0</td>\n",
       "      <td>Amsterdam</td>\n",
       "      <td>235372087.0</td>\n",
       "      <td>2021-10-01T00:00:00</td>\n",
       "      <td>NaN</td>\n",
       "      <td>010</td>\n",
       "      <td>Ringweg-West</td>\n",
       "      <td>Amsterdam</td>\n",
       "      <td>Amsterdam</td>\n",
       "      <td>LINESTRING (117881.25649999827 486103.59609999...</td>\n",
       "    </tr>\n",
       "    <tr>\n",
       "      <th>4</th>\n",
       "      <td>NaN</td>\n",
       "      <td>20140030891</td>\n",
       "      <td>2014.0</td>\n",
       "      <td>Amsterdam</td>\n",
       "      <td>252370009.0</td>\n",
       "      <td>2021-10-01T00:00:00</td>\n",
       "      <td>NaN</td>\n",
       "      <td>010</td>\n",
       "      <td>Ringweg-Oost</td>\n",
       "      <td>Amsterdam</td>\n",
       "      <td>Amsterdam</td>\n",
       "      <td>LINESTRING (126227.30389999971 485205.01480000...</td>\n",
       "    </tr>\n",
       "    <tr>\n",
       "      <th>...</th>\n",
       "      <td>...</td>\n",
       "      <td>...</td>\n",
       "      <td>...</td>\n",
       "      <td>...</td>\n",
       "      <td>...</td>\n",
       "      <td>...</td>\n",
       "      <td>...</td>\n",
       "      <td>...</td>\n",
       "      <td>...</td>\n",
       "      <td>...</td>\n",
       "      <td>...</td>\n",
       "      <td>...</td>\n",
       "    </tr>\n",
       "    <tr>\n",
       "      <th>12304</th>\n",
       "      <td>NaN</td>\n",
       "      <td>20230181631</td>\n",
       "      <td>2023.0</td>\n",
       "      <td>Amsterdam</td>\n",
       "      <td>600124746.0</td>\n",
       "      <td>2022-06-01T00:00:00</td>\n",
       "      <td>2024-05-31T00:00:00</td>\n",
       "      <td>002</td>\n",
       "      <td>Nieuwe Utrechtseweg</td>\n",
       "      <td>Amsterdam</td>\n",
       "      <td>Amsterdam</td>\n",
       "      <td>LINESTRING (122669.51669999957 482714.50039999...</td>\n",
       "    </tr>\n",
       "    <tr>\n",
       "      <th>12305</th>\n",
       "      <td>NaN</td>\n",
       "      <td>20230181650</td>\n",
       "      <td>2023.0</td>\n",
       "      <td>Amsterdam</td>\n",
       "      <td>600421400.0</td>\n",
       "      <td>2021-08-01T00:00:00</td>\n",
       "      <td>2024-03-31T00:00:00</td>\n",
       "      <td>200</td>\n",
       "      <td>Haarlemmerweg</td>\n",
       "      <td>Amsterdam</td>\n",
       "      <td>Amsterdam</td>\n",
       "      <td>LINESTRING (112228.52419999987 488624.11499999...</td>\n",
       "    </tr>\n",
       "    <tr>\n",
       "      <th>12306</th>\n",
       "      <td>NaN</td>\n",
       "      <td>20230181659</td>\n",
       "      <td>2023.0</td>\n",
       "      <td>Amsterdam</td>\n",
       "      <td>232367004.0</td>\n",
       "      <td>2021-10-01T00:00:00</td>\n",
       "      <td>NaN</td>\n",
       "      <td>004</td>\n",
       "      <td>Nieuwe Haagseweg</td>\n",
       "      <td>Amsterdam</td>\n",
       "      <td>Amsterdam</td>\n",
       "      <td>LINESTRING (116333.73530000076 483528.55849999...</td>\n",
       "    </tr>\n",
       "    <tr>\n",
       "      <th>12307</th>\n",
       "      <td>NaN</td>\n",
       "      <td>20230181665</td>\n",
       "      <td>2023.0</td>\n",
       "      <td>Amsterdam</td>\n",
       "      <td>600123751.0</td>\n",
       "      <td>2021-10-01T00:00:00</td>\n",
       "      <td>NaN</td>\n",
       "      <td>010</td>\n",
       "      <td>Ringweg-West</td>\n",
       "      <td>Amsterdam</td>\n",
       "      <td>Amsterdam</td>\n",
       "      <td>LINESTRING (119686.86740000173 492432.30480000...</td>\n",
       "    </tr>\n",
       "    <tr>\n",
       "      <th>12308</th>\n",
       "      <td>NaN</td>\n",
       "      <td>20230181667</td>\n",
       "      <td>2023.0</td>\n",
       "      <td>Amsterdam</td>\n",
       "      <td>237382039.0</td>\n",
       "      <td>2022-06-01T00:00:00</td>\n",
       "      <td>2024-03-31T00:00:00</td>\n",
       "      <td>010</td>\n",
       "      <td>Ringweg-West</td>\n",
       "      <td>Amsterdam</td>\n",
       "      <td>Amsterdam</td>\n",
       "      <td>LINESTRING (118826.4785999991 491025.648400001...</td>\n",
       "    </tr>\n",
       "  </tbody>\n",
       "</table>\n",
       "<p>12309 rows × 12 columns</p>\n",
       "</div>"
      ],
      "text/plain": [
       "       participant_id  accident_id  accident_year municipality  \\\n",
       "0                 NaN  20140011930         2014.0    Amsterdam   \n",
       "1                 NaN  20140014250         2014.0    Amsterdam   \n",
       "2                 NaN  20140025144         2014.0    Amsterdam   \n",
       "3                 NaN  20140030701         2014.0    Amsterdam   \n",
       "4                 NaN  20140030891         2014.0    Amsterdam   \n",
       "...               ...          ...            ...          ...   \n",
       "12304             NaN  20230181631         2023.0    Amsterdam   \n",
       "12305             NaN  20230181650         2023.0    Amsterdam   \n",
       "12306             NaN  20230181659         2023.0    Amsterdam   \n",
       "12307             NaN  20230181665         2023.0    Amsterdam   \n",
       "12308             NaN  20230181667         2023.0    Amsterdam   \n",
       "\n",
       "       roadsegment_id    segment_startdate      segment_enddate roadnumber  \\\n",
       "0         253372001.0  2021-10-01T00:00:00                  NaN        010   \n",
       "1         250367078.0  2021-10-01T00:00:00                  NaN        010   \n",
       "2         258359006.0  2021-11-01T00:00:00  2022-05-31T00:00:00       N236   \n",
       "3         235372087.0  2021-10-01T00:00:00                  NaN        010   \n",
       "4         252370009.0  2021-10-01T00:00:00                  NaN        010   \n",
       "...               ...                  ...                  ...        ...   \n",
       "12304     600124746.0  2022-06-01T00:00:00  2024-05-31T00:00:00        002   \n",
       "12305     600421400.0  2021-08-01T00:00:00  2024-03-31T00:00:00        200   \n",
       "12306     232367004.0  2021-10-01T00:00:00                  NaN        004   \n",
       "12307     600123751.0  2021-10-01T00:00:00                  NaN        010   \n",
       "12308     237382039.0  2022-06-01T00:00:00  2024-03-31T00:00:00        010   \n",
       "\n",
       "                streetname neighborhood municipality  \\\n",
       "0             Ringweg-Oost    Amsterdam    Amsterdam   \n",
       "1             Ringweg-Oost    Amsterdam    Amsterdam   \n",
       "2           Provincialeweg    Amsterdam    Amsterdam   \n",
       "3             Ringweg-West    Amsterdam    Amsterdam   \n",
       "4             Ringweg-Oost    Amsterdam    Amsterdam   \n",
       "...                    ...          ...          ...   \n",
       "12304  Nieuwe Utrechtseweg    Amsterdam    Amsterdam   \n",
       "12305        Haarlemmerweg    Amsterdam    Amsterdam   \n",
       "12306     Nieuwe Haagseweg    Amsterdam    Amsterdam   \n",
       "12307         Ringweg-West    Amsterdam    Amsterdam   \n",
       "12308         Ringweg-West    Amsterdam    Amsterdam   \n",
       "\n",
       "                                                geometry  \n",
       "0      LINESTRING (126588.02679999918 486233.7511, 12...  \n",
       "1      LINESTRING (125111.05449999869 483505.16890000...  \n",
       "2      LINESTRING (129307 479862, 129312.89799999818 ...  \n",
       "3      LINESTRING (117881.25649999827 486103.59609999...  \n",
       "4      LINESTRING (126227.30389999971 485205.01480000...  \n",
       "...                                                  ...  \n",
       "12304  LINESTRING (122669.51669999957 482714.50039999...  \n",
       "12305  LINESTRING (112228.52419999987 488624.11499999...  \n",
       "12306  LINESTRING (116333.73530000076 483528.55849999...  \n",
       "12307  LINESTRING (119686.86740000173 492432.30480000...  \n",
       "12308  LINESTRING (118826.4785999991 491025.648400001...  \n",
       "\n",
       "[12309 rows x 12 columns]"
      ]
     },
     "execution_count": 103,
     "metadata": {},
     "output_type": "execute_result"
    }
   ],
   "source": [
    "df_ams_cc"
   ]
  },
  {
   "cell_type": "code",
   "execution_count": null,
   "id": "4f45b080-2ea6-40f9-b5f7-b7cca495b0b9",
   "metadata": {},
   "outputs": [],
   "source": []
  }
 ],
 "metadata": {
  "kernelspec": {
   "display_name": "venv",
   "language": "python",
   "name": "venv"
  },
  "language_info": {
   "codemirror_mode": {
    "name": "ipython",
    "version": 3
   },
   "file_extension": ".py",
   "mimetype": "text/x-python",
   "name": "python",
   "nbconvert_exporter": "python",
   "pygments_lexer": "ipython3",
   "version": "3.12.7"
  }
 },
 "nbformat": 4,
 "nbformat_minor": 5
}
